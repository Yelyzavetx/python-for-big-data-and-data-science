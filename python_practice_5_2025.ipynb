{
  "cells": [
    {
      "cell_type": "markdown",
      "metadata": {
        "id": "5qV_sehzFCTp"
      },
      "source": [
        "# I. OOP"
      ]
    },
    {
      "cell_type": "markdown",
      "metadata": {
        "id": "tx_U_hOALyfg"
      },
      "source": [
        "1. (6б). Створіть клас Building, додайте три атрибути, один з яких має значення за замовчуванням та два методи на свій розсуд."
      ]
    },
    {
      "cell_type": "code",
      "execution_count": 1,
      "metadata": {
        "id": "-Vf895KaL88N"
      },
      "outputs": [
        {
          "name": "stdout",
          "output_type": "stream",
          "text": [
            "Building 'Super Tower' has 100 floors and is located in Kyiv.\n",
            "Building 'Super Tower' is being renovated!\n"
          ]
        }
      ],
      "source": [
        "class Building:\n",
        "    def __init__(self, name, floors, location=\"Unknown\"):\n",
        "        self.name = name\n",
        "        self.floors = floors\n",
        "        self.location = location\n",
        "    \n",
        "    def get_info(self):\n",
        "        return f\"Building '{self.name}' has {self.floors} floors and is located in {self.location}.\"\n",
        "    \n",
        "    def renovate(self):\n",
        "        return f\"Building '{self.name}' is being renovated!\"\n",
        "\n",
        "b1 = Building(\"Super Tower\", 100, \"Kyiv\")\n",
        "\n",
        "print(b1.get_info())\n",
        "print(b1.renovate())"
      ]
    },
    {
      "cell_type": "markdown",
      "metadata": {
        "id": "X_UlOMB0L93w"
      },
      "source": [
        "2. (2б). Створіть два обʼєкти цього класу, де один з обʼєктів створюється із дефолтним значенням атрибуту. На одному обʼєкті отримайте значення його атрибуту, а на іншому викличте один з його методів."
      ]
    },
    {
      "cell_type": "code",
      "execution_count": 4,
      "metadata": {
        "id": "7gBu0ESOMCpG"
      },
      "outputs": [
        {
          "name": "stdout",
          "output_type": "stream",
          "text": [
            "The amount of floors of a Super Tower is 100.\n",
            "Building 'Dnipro Heights' is being renovated!\n"
          ]
        }
      ],
      "source": [
        "#The first object was created in previous task as an example to test a code. It will be used also here.\n",
        "b2 = Building(\"Dnipro Heights\", 35, \"Dnipro\")\n",
        "\n",
        "print(f\"The amount of floors of a {b1.name} is {b1.floors}.\")\n",
        "print(b2.renovate())"
      ]
    },
    {
      "cell_type": "markdown",
      "metadata": {
        "id": "HoqSCZt1MHn5"
      },
      "source": [
        "3. (5б). Створіть клас, де атрибути мають різні рівні доступу. Спробуйте отримати їхні значення та опишіть результати."
      ]
    },
    {
      "cell_type": "code",
      "execution_count": 7,
      "metadata": {
        "id": "r9b3vJxBMSPV"
      },
      "outputs": [
        {
          "name": "stdout",
          "output_type": "stream",
          "text": [
            "School name: Gimnasium №19\n",
            "Number of students: 500\n",
            "Accessing protected attribute: Mr. Protsenko\n",
            "Cannot access private attribute '__students' directly!\n"
          ]
        }
      ],
      "source": [
        "class School:\n",
        "    def __init__(self, name, students, director):\n",
        "        self.name = name\n",
        "        self._director = director\n",
        "        self.__students = students\n",
        "    \n",
        "    def get_students(self):\n",
        "        return self.__students\n",
        "    \n",
        "    def get_director(self):\n",
        "        return self._director\n",
        "\n",
        "school = School(\"Gimnasium №19\", 500, \"Mr. Protsenko\")\n",
        "\n",
        "# Access to attributes\n",
        "print(f\"School name: {school.name}\")\n",
        "print(f\"Number of students: {school.get_students()}\")\n",
        "\n",
        "# Direct access to a protected attribute\n",
        "print(f\"Accessing protected attribute: {school._director}\")\n",
        "\n",
        "# Here I am trying to access a private attribute, but I will have an error\n",
        "try:\n",
        "    print(f\"Students: {school.__students}\")\n",
        "except AttributeError:\n",
        "    print(\"Cannot access private attribute '__students' directly!\")"
      ]
    },
    {
      "cell_type": "markdown",
      "metadata": {
        "id": "5op2m2vgMSkZ"
      },
      "source": [
        "4. (7б). Як ви розумієте термін self? Для чого використовується метод __init __?"
      ]
    },
    {
      "cell_type": "markdown",
      "metadata": {
        "id": "DyiPqNRvMasx"
      },
      "source": [
        "self - використовується в методах класу для посилання на поточний екземпляр класу.\n",
        "\n",
        "Метод __init__ — викликається при створенні нового екземпляра класу. Наприклад, може використовуватись для ініціалізації властивостей об'єкта при його створенні."
      ]
    },
    {
      "cell_type": "markdown",
      "metadata": {
        "id": "-6X8EGfjMd2y"
      },
      "source": [
        "5. (9б). Створіть клас 3D-фігура без атрибутів, з методом get_volume для отримання об'єму фігури, що повертає 0 та __add __, який приймає self та other в якості аргументів, а повертає суму об'ємів 3d-фігур self та other."
      ]
    },
    {
      "cell_type": "code",
      "execution_count": 8,
      "metadata": {
        "id": "4rvO_wYUMaEr"
      },
      "outputs": [
        {
          "name": "stdout",
          "output_type": "stream",
          "text": [
            "0\n",
            "0\n",
            "0\n"
          ]
        }
      ],
      "source": [
        "class Shape3D:\n",
        "    def get_volume(self):\n",
        "        return 0\n",
        "    \n",
        "    def __add__(self, other):\n",
        "        if isinstance(other, Shape3D):\n",
        "            return self.get_volume() + other.get_volume()\n",
        "        return NotImplemented\n",
        "\n",
        "shape1 = Shape3D()\n",
        "shape2 = Shape3D()\n",
        "\n",
        "print(shape1.get_volume())\n",
        "print(shape2.get_volume())\n",
        "\n",
        "sum_volumes = shape1 + shape2\n",
        "print(sum_volumes)"
      ]
    },
    {
      "cell_type": "markdown",
      "metadata": {
        "id": "SFcKnnv5Mo_z"
      },
      "source": [
        "6. (11б). Створіть 2 дочірніх класи від 3d-фігура: Циліндр та Куб, які мають атрибути, необхідні для розрахунку об'єму. Визначте метод get_volume в кожному з них так, щоби вони розраховували об'єм у залежності від формули для кожного типу фігури. Створіть обʼєкт класу Циліндр та обʼєкт класу Куб. Виконайте операцію суми за допомогою оператора + між ними, аби знайти сумарний об'єм."
      ]
    },
    {
      "cell_type": "code",
      "execution_count": 11,
      "metadata": {
        "id": "H3GVNr69Muf3"
      },
      "outputs": [
        {
          "name": "stdout",
          "output_type": "stream",
          "text": [
            "Cylinder volume: 785.3981633974474\n",
            "Volume of a cube: 64\n",
            "Total volume: 849.3981633974474\n"
          ]
        }
      ],
      "source": [
        "class Cylinder(Shape3D):\n",
        "    def __init__(self, radius, height):\n",
        "        self.radius = radius\n",
        "        self.height = height\n",
        "    \n",
        "    def get_volume(self):\n",
        "        pi = 3.14159265358979\n",
        "        return pi * self.radius ** 2 * self.height\n",
        "\n",
        "\n",
        "class Cube(Shape3D):\n",
        "    def __init__(self, side):\n",
        "        self.side = side\n",
        "    \n",
        "    def get_volume(self):\n",
        "        return self.side ** 3\n",
        "\n",
        "\n",
        "cylinder = Cylinder(5, 10)  # Cylinder: radius = 3, height = 5;\n",
        "cube = Cube(4)  # Cube: length of the edge = 4.\n",
        "\n",
        "print(f\"Cylinder volume: {cylinder.get_volume()}\")\n",
        "print(f\"Volume of a cube: {cube.get_volume()}\")\n",
        "\n",
        "total_volume = cylinder + cube\n",
        "print(f\"Total volume: {total_volume}\")"
      ]
    },
    {
      "cell_type": "markdown",
      "metadata": {
        "id": "HCvR206YMvLK"
      },
      "source": [
        "7. (3б). Продемонструйте різницю між isinstance та issubclass."
      ]
    },
    {
      "cell_type": "code",
      "execution_count": 13,
      "metadata": {
        "id": "L_V1bBvDM0GN"
      },
      "outputs": [
        {
          "name": "stdout",
          "output_type": "stream",
          "text": [
            "True\n",
            "True\n",
            "True\n",
            "False\n",
            "True\n",
            "True\n",
            "False\n"
          ]
        }
      ],
      "source": [
        "shape = Shape3D()\n",
        "\n",
        "# isinstance testing\n",
        "print(isinstance(cylinder, Shape3D))\n",
        "print(isinstance(cube, Shape3D))\n",
        "print(isinstance(shape, Shape3D))\n",
        "print(isinstance(cylinder, Cube)) \n",
        "\n",
        "# issubclass Testing\n",
        "print(issubclass(Cylinder, Shape3D))\n",
        "print(issubclass(Cube, Shape3D)) \n",
        "print(issubclass(Shape3D, Cylinder))"
      ]
    },
    {
      "cell_type": "markdown",
      "metadata": {
        "id": "jjsaBZ-iM0Qq"
      },
      "source": [
        "8. (13б). Створіть клас EWallet з приватними атрибутами balance та id. Реалізуйте методи поповнення та зняття коштів, забезпечивши належну інкапсуляцію. Підказка: використовуйте декоратори property та setter."
      ]
    },
    {
      "cell_type": "code",
      "execution_count": 15,
      "metadata": {
        "id": "xCvZ7lh8M7YA"
      },
      "outputs": [
        {
          "name": "stdout",
          "output_type": "stream",
          "text": [
            "Balance: 500\n",
            "Replenished 50. New balance: 550\n",
            "Withdrawn 230. New balance: 320\n",
            "It is forbidden to change the balance directly!\n"
          ]
        }
      ],
      "source": [
        "class EWallet:\n",
        "    def __init__(self, wallet_id, initial_balance=0):\n",
        "        self.__id = wallet_id\n",
        "        self.__balance = initial_balance\n",
        "\n",
        "    @property\n",
        "    def balance(self):\n",
        "        return self.__balance\n",
        "\n",
        "    @balance.setter\n",
        "    def balance(self, amount):\n",
        "        raise AttributeError(\"It is forbidden to change the balance directly!\")\n",
        "\n",
        "    @property\n",
        "    def wallet_id(self):\n",
        "        return self.__id\n",
        "\n",
        "    def deposit(self, amount):\n",
        "        if amount > 0:\n",
        "            self.__balance += amount\n",
        "            print(f\"Replenished {amount}. New balance: {self.__balance}\")\n",
        "        else:\n",
        "            print(\"The amount of replenishment must be higher than 0.\")\n",
        "\n",
        "    def withdraw(self, amount):\n",
        "        if 0 < amount <= self.__balance:\n",
        "            self.__balance -= amount\n",
        "            print(f\"Withdrawn {amount}. New balance: {self.__balance}\")\n",
        "        else:\n",
        "            print(\"Insufficient funds or incorrect amount to withdraw.\")\n",
        "\n",
        "wallet = EWallet(wallet_id=\"12345\", initial_balance=500)\n",
        "print(f\"Balance: {wallet.balance}\")\n",
        "\n",
        "wallet.deposit(50)\n",
        "wallet.withdraw(230)\n",
        "\n",
        "try:\n",
        "    wallet.balance = 1000\n",
        "except AttributeError as e:\n",
        "    print(e)"
      ]
    },
    {
      "cell_type": "markdown",
      "metadata": {
        "id": "tIzL2SJTM8ft"
      },
      "source": [
        "9. (11б). Створіть клас ShoppingCart, який містить список об'єктів типу Item. Реалізуйте методи для додавання айтемів, їх видалення та відображення списку айтемів."
      ]
    },
    {
      "cell_type": "code",
      "execution_count": 16,
      "metadata": {
        "id": "HWxfJKLtNAUZ"
      },
      "outputs": [
        {
          "name": "stdout",
          "output_type": "stream",
          "text": [
            "Added: Jeans - $77.00\n",
            "Added: T-shirt - $45.00\n",
            "Added: Skirt - $66.00\n",
            "\n",
            "Items in your cart:\n",
            "- Jeans - $77.00\n",
            "- T-shirt - $45.00\n",
            "- Skirt - $66.00\n",
            "\n",
            "Deleted: Skirt - $66.00\n",
            "\n",
            "Items in your cart:\n",
            "- Jeans - $77.00\n",
            "- T-shirt - $45.00\n"
          ]
        }
      ],
      "source": [
        "class Item:\n",
        "    def __init__(self, name, price):\n",
        "        self.name = name\n",
        "        self.price = price\n",
        "\n",
        "    def __str__(self):\n",
        "        return f\"{self.name} - ${self.price:.2f}\"\n",
        "\n",
        "\n",
        "class ShoppingCart:\n",
        "    def __init__(self):\n",
        "        self.items = []\n",
        "\n",
        "    def add_item(self, item):\n",
        "        if isinstance(item, Item):\n",
        "            self.items.append(item)\n",
        "            print(f\"Added: {item}\")\n",
        "        else:\n",
        "            print(\"Error: Only objects of the Item class can be added!\")\n",
        "\n",
        "    def remove_item(self, item_name):\n",
        "        for item in self.items:\n",
        "            if item.name == item_name:\n",
        "                self.items.remove(item)\n",
        "                print(f\"\\nDeleted: {item}\")\n",
        "                return\n",
        "        print(f\"The item '{item_name}' is not found in cart.\")\n",
        "\n",
        "    def show_items(self):\n",
        "        if not self.items:\n",
        "            print(\"Your cart is empty.\")\n",
        "        else:\n",
        "            print(\"\\nItems in your cart:\")\n",
        "            for item in self.items:\n",
        "                print(f\"- {item}\")\n",
        "\n",
        "cart = ShoppingCart()\n",
        "\n",
        "item1 = Item(\"Jeans\", 77)\n",
        "item2 = Item(\"T-shirt\", 45)\n",
        "item3 = Item(\"Skirt\", 66)\n",
        "\n",
        "cart.add_item(item1)\n",
        "cart.add_item(item2)\n",
        "cart.add_item(item3)\n",
        "cart.show_items()\n",
        "\n",
        "cart.remove_item(\"Skirt\")\n",
        "cart.show_items()"
      ]
    },
    {
      "cell_type": "markdown",
      "metadata": {
        "id": "lmV8pAwwNIqu"
      },
      "source": [
        "10. (13б). Створіть клас Vehicle з атрибутами brand (manufacturer) та production_age. Створіть ще один клас Engine з такими атрибутами, як type (ex. petrol) та size (volume, litres). Створіть клас Car, який успадковує обидва класи Vehicle та Engine. Продемонструйте використання множинної спадковості, створивши обʼєкт класу Car та отримавши mro для цього класу."
      ]
    },
    {
      "cell_type": "code",
      "execution_count": 17,
      "metadata": {
        "id": "R49grKlWNPeN"
      },
      "outputs": [
        {
          "name": "stdout",
          "output_type": "stream",
          "text": [
            "Brand: Audi, Age: 5years, Model: Q8, Type of an engine: Petrol, Volume: 3.0 l\n",
            "\n",
            "Method Resolution Order (MRO):\n",
            "[<class '__main__.Car'>, <class '__main__.Vehicle'>, <class '__main__.Engine'>, <class 'object'>]\n"
          ]
        }
      ],
      "source": [
        "class Vehicle:\n",
        "    def __init__(self, brand, production_age):\n",
        "        self.brand = brand\n",
        "        self.production_age = production_age\n",
        "\n",
        "    def get_vehicle_info(self):\n",
        "        return f\"Brand: {self.brand}, Age: {self.production_age}years\"\n",
        "\n",
        "\n",
        "class Engine:\n",
        "    def __init__(self, engine_type, size):\n",
        "        self.engine_type = engine_type\n",
        "        self.size = size\n",
        "\n",
        "    def get_engine_info(self):\n",
        "        return f\"Type of an engine: {self.engine_type}, Volume: {self.size} l\"\n",
        "\n",
        "\n",
        "class Car(Vehicle, Engine):\n",
        "    def __init__(self, brand, production_age, engine_type, size, model):\n",
        "        Vehicle.__init__(self, brand, production_age)\n",
        "        Engine.__init__(self, engine_type, size)\n",
        "        self.model = model\n",
        "\n",
        "    def get_car_info(self):\n",
        "        return f\"{self.get_vehicle_info()}, Model: {self.model}, {self.get_engine_info()}\"\n",
        "\n",
        "my_car = Car(brand=\"Audi\", production_age=5, engine_type=\"Petrol\", size=3.0, model=\"Q8\")\n",
        "\n",
        "print(my_car.get_car_info())\n",
        "\n",
        "print(\"\\nMethod Resolution Order (MRO):\")\n",
        "print(Car.mro())"
      ]
    },
    {
      "cell_type": "markdown",
      "metadata": {
        "id": "dIJyUiNBFG8G"
      },
      "source": [
        "# II. Iterator"
      ]
    },
    {
      "cell_type": "markdown",
      "metadata": {
        "id": "13vsm0NyKIzL"
      },
      "source": [
        "11. (4б). Визначте рядок(str) з 4ма різними за значенням символами. Створіть ітератор на основі цього рядка. Викличте 5 разів функцію next на ітераторі, 4ри перших з них огорніть у ф-цію print()."
      ]
    },
    {
      "cell_type": "code",
      "execution_count": 22,
      "metadata": {
        "id": "81ntabAkKuz-"
      },
      "outputs": [
        {
          "name": "stdout",
          "output_type": "stream",
          "text": [
            "a\n",
            "1\n",
            "$\n",
            "Z\n",
            "Error: There are only 4 symblos.\n"
          ]
        }
      ],
      "source": [
        "my_string = \"a1$Z\"\n",
        "\n",
        "iterator = iter(my_string)\n",
        "\n",
        "print(next(iterator))\n",
        "print(next(iterator))\n",
        "print(next(iterator))\n",
        "print(next(iterator))\n",
        "\n",
        "try:\n",
        "    next(iterator)\n",
        "except StopIteration as e:\n",
        "    print(\"Error: There are only 4 symblos.\")"
      ]
    },
    {
      "cell_type": "markdown",
      "metadata": {
        "id": "aekWHGXOLRsO"
      },
      "source": [
        "А що якщо викликати цю ж функцію на рядку?"
      ]
    },
    {
      "cell_type": "code",
      "execution_count": 24,
      "metadata": {
        "id": "mxATGsErLV1i"
      },
      "outputs": [
        {
          "name": "stdout",
          "output_type": "stream",
          "text": [
            "Error: Str is an iterable object, but it is not an iterator itself.\n"
          ]
        }
      ],
      "source": [
        "my_string = \"a1$Z\"\n",
        "\n",
        "try:\n",
        "    next(my_string)\n",
        "except TypeError as e:\n",
        "    print(f\"Error: Str is an iterable object, but it is not an iterator itself.\")"
      ]
    },
    {
      "cell_type": "markdown",
      "metadata": {
        "id": "XwtMEopwJ4pH"
      },
      "source": [
        " 12. (5б). Опишіть своїми словами в одному реченні, як ви розумієте різницю між ітерабельними обʼєктами та ітераторами (можна на прикладі)."
      ]
    },
    {
      "cell_type": "markdown",
      "metadata": {
        "id": "-sHrODc3KFn8"
      },
      "source": [
        "Ітерабельні об'єкти можуть створювати ітератор через iter();\n",
        "Ітератор — це об'єкт, який зберігає поточний стан ітерації та повертає наступний елемент за допомогою next().\n",
        "\n",
        "Приклад:\n",
        "my_list = [1, 2, 3] — ітерабельний;\n",
        "iter(my_list) — ітератор."
      ]
    },
    {
      "cell_type": "markdown",
      "metadata": {
        "id": "E9qJWmNbK8Gl"
      },
      "source": [
        "13. (11б). Створіть клас, що має визначений Iterator Protocol та при кожному виклику next повертає назву дня тижня, поки вони не вичерпаються. Зверніть увагу, що порядок має значення."
      ]
    },
    {
      "cell_type": "code",
      "execution_count": 19,
      "metadata": {
        "id": "cqx-g_RsLo6I"
      },
      "outputs": [
        {
          "name": "stdout",
          "output_type": "stream",
          "text": [
            "Monday\n",
            "Tuesday\n",
            "Wednesday\n",
            "Thursday\n",
            "Friday\n",
            "Saturday\n",
            "Sunday\n"
          ]
        }
      ],
      "source": [
        "class WeekIterator:  \n",
        "    def __init__(self):\n",
        "        self.days = [\"Monday\", \"Tuesday\", \"Wednesday\", \"Thursday\", \"Friday\", \"Saturday\", \"Sunday\"]\n",
        "        self.index = 0\n",
        "    \n",
        "    def __iter__(self):\n",
        "        return self\n",
        "    \n",
        "    def __next__(self):\n",
        "        if self.index >= len(self.days):\n",
        "            raise StopIteration\n",
        "        day = self.days[self.index]\n",
        "        self.index += 1\n",
        "        return day\n",
        "\n",
        "week = WeekIterator()\n",
        "\n",
        "for day in week:\n",
        "    print(day)"
      ]
    },
    {
      "cell_type": "markdown",
      "metadata": {
        "id": "Z3E3S_s1Fv7-"
      },
      "source": [
        "# Вітаю! Ви велика(ий) молодець, що впоралась(вся). Похваліть себе та побалуйте чимось приємним. Я Вами пишаюся."
      ]
    }
  ],
  "metadata": {
    "colab": {
      "provenance": []
    },
    "kernelspec": {
      "display_name": "Python 3",
      "name": "python3"
    },
    "language_info": {
      "codemirror_mode": {
        "name": "ipython",
        "version": 3
      },
      "file_extension": ".py",
      "mimetype": "text/x-python",
      "name": "python",
      "nbconvert_exporter": "python",
      "pygments_lexer": "ipython3",
      "version": "3.13.2"
    }
  },
  "nbformat": 4,
  "nbformat_minor": 0
}
